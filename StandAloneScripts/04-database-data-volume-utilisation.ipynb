{
 "cells": [
  {
   "cell_type": "code",
   "execution_count": 1,
   "metadata": {},
   "outputs": [],
   "source": [
    "import sys  # For running system level commands\n",
    "import yaml  # For reading the config file\n",
    "import os  # For path tools\n",
    "import requests  # For symphony client\n",
    "import symphony_client  # For connecting to Symphony region\n",
    "from pip._vendor.distlib.compat import raw_input\n",
    "import datetime\n",
    "from pytz import timezone\n",
    "import pytz  # To add timezone to datetime"
   ]
  },
  {
   "cell_type": "code",
   "execution_count": 2,
   "metadata": {
    "scrolled": true
   },
   "outputs": [
    {
     "name": "stdout",
     "output_type": "stream",
     "text": [
      "\u001b[33mDEPRECATION: Python 2.7 will reach the end of its life on January 1st, 2020. Please upgrade your Python as Python 2.7 won't be maintained after that date. A future version of pip will drop support for Python 2.7. More details about Python 2 support in pip, can be found at https://pip.pypa.io/en/latest/development/release-process/#python-2-support\u001b[0m\n",
      "Requirement already satisfied: pyyaml in /usr/lib64/python2.7/site-packages (5.1.1)\n",
      "\u001b[33mWARNING: You are using pip version 19.2.3, however version 19.3.1 is available.\n",
      "You should consider upgrading via the 'pip install --upgrade pip' command.\u001b[0m\n"
     ]
    }
   ],
   "source": [
    "!{sys.executable} -m pip install pyyaml"
   ]
  },
  {
   "cell_type": "code",
   "execution_count": 3,
   "metadata": {},
   "outputs": [
    {
     "name": "stdout",
     "output_type": "stream",
     "text": [
      "[INIT] Initialising script.\n"
     ]
    }
   ],
   "source": [
    "print(u\"[INIT] Initialising script.\")\n",
    "# Configure environment\n",
    "tz_utc = pytz.timezone(\"UTC\") # Set timezone for data source\n",
    "rootpath = os.path.dirname(os.path.realpath('__file__'))  # Get the root path"
   ]
  },
  {
   "cell_type": "code",
   "execution_count": 4,
   "metadata": {},
   "outputs": [
    {
     "name": "stdout",
     "output_type": "stream",
     "text": [
      " [✓] Config file loaded.\n"
     ]
    }
   ],
   "source": [
    "# Import config file data\n",
    "with open(rootpath + '/config.yml', 'r') as stream:\n",
    "    try:\n",
    "        config = yaml.safe_load(stream)\n",
    "        print(u\" [\\u2713] Config file loaded.\")\n",
    "    except yaml.YAMLError as exc:\n",
    "        print(u\" [\\u2717] Could not load the config file.\")\n",
    "        print(exc)\n",
    "        exit()\n",
    "class textCol:\n",
    "    RED = '\\033[91m'\n",
    "    GREEN = '\\033[92m'\n",
    "    YELLOW = '\\033[93m'\n",
    "    BLUE = '\\033[94m'\n",
    "    PURPLE = '\\033[95m'\n",
    "    CYCAN = '\\033[96m'\n",
    "    END = '\\033[0m'\n",
    "    BOLD = '\\033[1m'\n",
    "    UNDERLINE = '\\033[4m'"
   ]
  },
  {
   "cell_type": "code",
   "execution_count": 5,
   "metadata": {},
   "outputs": [
    {
     "name": "stdout",
     "output_type": "stream",
     "text": [
      " [✓] Stratoscale user region [https://192.168.101.100] session established.\n"
     ]
    }
   ],
   "source": [
    "# Configure Stratoscale API connection\n",
    "symp_url = \"https://\" + config[\"region_access\"][\"ipaddress\"]\n",
    "symp_domain = config[\"region_access\"][\"cloud_domain\"]\n",
    "symp_user = config[\"region_access\"][\"cloud_user\"]\n",
    "symp_password = config[\"region_access\"][\"cloud_password\"]\n",
    "symp_project = config[\"region_access\"][\"project\"],\n",
    "my_session = requests.Session()\n",
    "my_session.verify = False\n",
    "\n",
    "try:\n",
    "    client = symphony_client.Client(url=symp_url, session=my_session)\n",
    "    client_login = client.login(domain=symp_domain, username=symp_user, password=symp_password,project=symp_project)\n",
    "    print(u\" [\\u2713] Stratoscale user region [{}] session established.\".format(symp_url))\n",
    "except:\n",
    "    print(u\" [\\u2717] Could not connect to the Stratosacle region [{}] as user\".format(symp_url))\n",
    "    exit()"
   ]
  },
  {
   "cell_type": "code",
   "execution_count": 6,
   "metadata": {},
   "outputs": [
    {
     "name": "stdout",
     "output_type": "stream",
     "text": [
      "-------------------------------------------------------------------------------------------\n",
      " [1] \u001b[1mHappi [172.16.250.97]\u001b[0m\n",
      "  DB ID 05764e6a-cd65-4739-a7ea-f4efa04ee06f\t\u001b[92m[Active]\u001b[0m\n",
      "  Data Volume\t\t\t\t\t\u001b[92m[OK] - 9% consumed of the allocated 14GB\u001b[0m\n",
      "-------------------------------------------------------------------------------------------\n",
      " [2] \u001b[1mReplica_ignes_db_training [172.16.250.63]\u001b[0m\n",
      "  DB ID 0993287b-8213-402a-ab3a-7eadf2bdb5f7\t\u001b[92m[Active]\u001b[0m\n",
      "  Data Volume\t\t\t\t\t\u001b[92m[OK] - 10% consumed of the allocated 9GB\u001b[0m\n",
      "-------------------------------------------------------------------------------------------\n",
      " [3] \u001b[1mRemoteReplicaBaas [172.16.250.135]\u001b[0m\n",
      "  DB ID 255647c7-7d84-4c2c-b82f-9f1ffddc0c9e\t\u001b[92m[Active]\u001b[0m\n",
      "  Data Volume\t\t\t\t\t\u001b[93m[No Data] - ?% consumed of the allocated 3GB\u001b[0m\n",
      "-------------------------------------------------------------------------------------------\n",
      " [4] \u001b[1mMyDB1ca [172.16.250.117]\u001b[0m\n",
      "  DB ID 2da6d6f4-f6bb-470c-b28b-034ff7b1fe34\t\u001b[92m[Active]\u001b[0m\n",
      "  Data Volume\t\t\t\t\t\u001b[92m[OK] - 10% consumed of the allocated 9GB\u001b[0m\n",
      "-------------------------------------------------------------------------------------------\n",
      " [5] \u001b[1mReplica of ar_test_db01 [172.16.250.81]\u001b[0m\n",
      "  DB ID 31cd3ef2-c7e7-4f4f-bcb3-5caa9ddf800f\t\u001b[92m[Active]\u001b[0m\n",
      "  Data Volume\t\t\t\t\t\u001b[92m[OK] - 10% consumed of the allocated 9GB\u001b[0m\n",
      "-------------------------------------------------------------------------------------------\n",
      " [6] \u001b[1mReplica of CGdb1 [172.16.250.85]\u001b[0m\n",
      "  DB ID 469bb9f8-ab6d-4f94-bcaa-cbf0184bb4cd\t\u001b[92m[Active]\u001b[0m\n",
      "  Data Volume\t\t\t\t\t\u001b[92m[OK] - 10% consumed of the allocated 10GB\u001b[0m\n",
      "-------------------------------------------------------------------------------------------\n",
      " [7] \u001b[1mmanesh_mysql5.7test [172.16.250.24]\u001b[0m\n",
      "  DB ID 4b94a3f0-f509-4e28-a70a-9e0ef3cad133\t\u001b[92m[Active]\u001b[0m\n",
      "  Data Volume\t\t\t\t\t\u001b[92m[OK] - 10% consumed of the allocated 10GB\u001b[0m\n",
      "-------------------------------------------------------------------------------------------\n",
      " [8] \u001b[1mam_DB_test [172.16.250.118]\u001b[0m\n",
      "  DB ID 4c2426e2-70a2-4ebf-a3a0-33e509ac0bc1\t\u001b[92m[Active]\u001b[0m\n",
      "  Data Volume\t\t\t\t\t\u001b[92m[OK] - 14% consumed of the allocated 5GB\u001b[0m\n",
      "-------------------------------------------------------------------------------------------\n",
      " [9] \u001b[1mDscDBcas [172.16.250.139]\u001b[0m\n",
      "  DB ID 4ffb959f-0a10-489e-a0e7-43876f44df4d\t\u001b[92m[Active]\u001b[0m\n",
      "  Data Volume\t\t\t\t\t\u001b[92m[OK] - 10% consumed of the allocated 10GB\u001b[0m\n",
      "-------------------------------------------------------------------------------------------\n",
      " [10] \u001b[1mTiro_DB1 [172.16.250.65]\u001b[0m\n",
      "  DB ID 50dc414a-db42-4fa0-bd4d-a10e28240076\t\u001b[92m[Active]\u001b[0m\n",
      "  Data Volume\t\t\t\t\t\u001b[92m[OK] - 10% consumed of the allocated 9GB\u001b[0m\n",
      "-------------------------------------------------------------------------------------------\n",
      " [11] \u001b[1mfmk_inst [172.16.250.138]\u001b[0m\n",
      "  DB ID 5b72e73a-5668-482b-b349-4a98e32a14bd\t\u001b[92m[Active]\u001b[0m\n",
      "  Data Volume\t\t\t\t\t\u001b[92m[OK] - 9% consumed of the allocated 3GB\u001b[0m\n",
      "-------------------------------------------------------------------------------------------\n",
      " [12] \u001b[1miamgroot_01 [172.16.250.93]\u001b[0m\n",
      "  DB ID 5e10ac8f-b5ca-404d-8580-0bef2686a6a3\t\u001b[92m[Active]\u001b[0m\n",
      "  Data Volume\t\t\t\t\t\u001b[92m[OK] - 19% consumed of the allocated 3GB\u001b[0m\n",
      "-------------------------------------------------------------------------------------------\n",
      " [13] \u001b[1mmysql1 [None]\u001b[0m\n",
      "  DB ID 6f659c2b-5187-4559-8334-696f00d956e8\t\u001b[92m[Active]\u001b[0m\n",
      "  Data Volume\t\t\t\t\t\u001b[92m[OK] - 19% consumed of the allocated 3GB\u001b[0m\n",
      "-------------------------------------------------------------------------------------------\n",
      " [14] \u001b[1mdbs_maria10.1_01 [172.16.250.32]\u001b[0m\n",
      "  DB ID 766a3c0c-c5f1-4479-911e-18c110a2f7c7\t\u001b[92m[Active]\u001b[0m\n",
      "  Data Volume\t\t\t\t\t\u001b[92m[OK] - 6% consumed of the allocated 50GB\u001b[0m\n",
      "-------------------------------------------------------------------------------------------\n",
      " [15] \u001b[1mmotlatsi_I [172.16.250.121]\u001b[0m\n",
      "  DB ID 77d156ab-a7a9-413e-aba7-95fb91bfb447\t\u001b[92m[Active]\u001b[0m\n",
      "  Data Volume\t\t\t\t\t\u001b[92m[OK] - 10% consumed of the allocated 9GB\u001b[0m\n",
      "-------------------------------------------------------------------------------------------\n",
      " [16] \u001b[1mdg-mysql-db [None]\u001b[0m\n",
      "  DB ID 8a73de13-816b-41b9-b2c6-7f8d6317351a\t\u001b[92m[Active]\u001b[0m\n",
      "  Data Volume\t\t\t\t\t\u001b[92m[OK] - 10% consumed of the allocated 10GB\u001b[0m\n",
      "-------------------------------------------------------------------------------------------\n",
      " [17] \u001b[1mar_test_db01 [172.16.250.114]\u001b[0m\n",
      "  DB ID 8c2c342c-5a4f-49d5-ad8d-924c54f35cb3\t\u001b[92m[Active]\u001b[0m\n",
      "  Data Volume\t\t\t\t\t\u001b[92m[OK] - 10% consumed of the allocated 9GB\u001b[0m\n",
      "-------------------------------------------------------------------------------------------\n",
      " [18] \u001b[1mdbs_postgresql11_01 [172.16.250.47]\u001b[0m\n",
      "  DB ID 8d75b8e6-0a41-43b8-bb0a-787f81ed2537\t\u001b[92m[Active]\u001b[0m\n",
      "  Data Volume\t\t\t\t\t\u001b[92m[OK] - 6% consumed of the allocated 50GB\u001b[0m\n",
      "-------------------------------------------------------------------------------------------\n",
      " [19] \u001b[1mfkg [172.16.250.83]\u001b[0m\n",
      "  DB ID 8ea23ecc-16c1-45b0-8393-08fea68b466c\t\u001b[92m[Active]\u001b[0m\n",
      "  Data Volume\t\t\t\t\t\u001b[92m[OK] - 10% consumed of the allocated 10GB\u001b[0m\n",
      "-------------------------------------------------------------------------------------------\n",
      " [20] \u001b[1mMphahleleDB [172.16.250.123]\u001b[0m\n",
      "  DB ID 9df0462d-92d6-4fe6-8096-25a42c11a95d\t\u001b[92m[Active]\u001b[0m\n",
      "  Data Volume\t\t\t\t\t\u001b[92m[OK] - 6% consumed of the allocated 50GB\u001b[0m\n",
      "-------------------------------------------------------------------------------------------\n",
      " [21] \u001b[1mdb_mysql_useful_ra [172.16.250.18]\u001b[0m\n",
      "  DB ID a29bffbd-56b4-4d65-9c26-c8ab42796947\t\u001b[92m[Active]\u001b[0m\n",
      "  Data Volume\t\t\t\t\t\u001b[92m[OK] - 10% consumed of the allocated 10GB\u001b[0m\n",
      "-------------------------------------------------------------------------------------------\n",
      " [22] \u001b[1mdbs_mysql5.7_01 [172.16.250.40]\u001b[0m\n",
      "  DB ID a5f089a9-e0f8-41aa-aba9-222e53005400\t\u001b[92m[Active]\u001b[0m\n",
      "  Data Volume\t\t\t\t\t\u001b[92m[OK] - 6% consumed of the allocated 512GB\u001b[0m\n",
      "-------------------------------------------------------------------------------------------\n",
      " [23] \u001b[1mfkg_mariadb [172.16.250.60]\u001b[0m\n",
      "  DB ID c574ad94-5c38-4d41-a287-65b88fbacf83\t\u001b[92m[Active]\u001b[0m\n",
      "  Data Volume\t\t\t\t\t\u001b[92m[OK] - 16% consumed of the allocated 3GB\u001b[0m\n",
      "-------------------------------------------------------------------------------------------\n",
      " [24] \u001b[1mCGremoteDB [None]\u001b[0m\n",
      "  DB ID c9b19054-f480-4102-806d-0a337ee8e635\t\u001b[92m[Active]\u001b[0m\n",
      "  Data Volume\t\t\t\t\t\u001b[93m[No Data] - ?% consumed of the allocated 3GB\u001b[0m\n",
      "-------------------------------------------------------------------------------------------\n",
      " [25] \u001b[1mdg-mysql-db - Replica [None]\u001b[0m\n",
      "  DB ID cc8a466b-1279-48a2-abeb-0906f4d97f80\t\u001b[92m[Active]\u001b[0m\n",
      "  Data Volume\t\t\t\t\t\u001b[92m[OK] - 10% consumed of the allocated 10GB\u001b[0m\n",
      "-------------------------------------------------------------------------------------------\n",
      " [26] \u001b[1mdg-mysql-db_2 [172.16.250.144]\u001b[0m\n",
      "  DB ID d5f22cb9-d7fd-47bf-a402-d41b273c35eb\t\u001b[92m[Active]\u001b[0m\n",
      "  Data Volume\t\t\t\t\t\u001b[92m[OK] - 10% consumed of the allocated 10GB\u001b[0m\n",
      "-------------------------------------------------------------------------------------------\n",
      " [27] \u001b[1mroneldjpg [172.16.200.92]\u001b[0m\n",
      "  DB ID e9904583-7b87-48d6-81ff-19125df48797\t\u001b[92m[Active]\u001b[0m\n",
      "  Data Volume\t\t\t\t\t\u001b[92m[OK] - 23% consumed of the allocated 6GB\u001b[0m\n",
      "-------------------------------------------------------------------------------------------\n",
      " [28] \u001b[1mNM Testing [None]\u001b[0m\n",
      "  DB ID f6da4da6-f850-439d-a984-405f99418183\t\u001b[92m[Active]\u001b[0m\n",
      "  Data Volume\t\t\t\t\t\u001b[92m[OK] - 6% consumed of the allocated 100GB\u001b[0m\n",
      "-------------------------------------------------------------------------------------------\n",
      " [29] \u001b[1mjkdkjhsajk [172.16.250.14]\u001b[0m\n",
      "  DB ID f859f295-e934-49a2-975a-952d25ec1db7\t\u001b[92m[Active]\u001b[0m\n",
      "  Data Volume\t\t\t\t\t\u001b[93m[No Data] - ?% consumed of the allocated 5GB\u001b[0m\n"
     ]
    }
   ],
   "source": [
    "dbs = client.dbs.instance.list()\n",
    "count = 0\n",
    "for db in dbs:\n",
    "    count = count + 1\n",
    "    if db.status.lower() == \"active\":\n",
    "        status = \"{}[Active]\".format(textCol.GREEN)\n",
    "    elif db.status.lower() == \"pending\":\n",
    "        status = \"{}[Pending]\".format(textCol.PURPLE)\n",
    "    elif db.status.lower() == \"processing\":\n",
    "        status = \"{}[Processing]\".format(textCol.CYCAN)\n",
    "    elif db.status.lower() == \"stopped\":\n",
    "        status = \"{}[Stopped]\".format(textCol.BLUE)\n",
    "    else:\n",
    "        status = \"{}Error\".format(textCol.RED)\n",
    "    db_details = \"-------------------------------------------------------------------------------------------\"\n",
    "    db_details = (\"{}\\n [{}] {}{} [{}]{}\\n  DB ID {}\\t{}{}\".format(\n",
    "        db_details,\n",
    "        count,\n",
    "        textCol.BOLD,\n",
    "        db.name,\n",
    "        db.floating_ip,\n",
    "        textCol.END,\n",
    "        db.id,\n",
    "        status,\n",
    "        textCol.END\n",
    "    ))\n",
    "    db_data = client.dbs.instance.get(db.id)\n",
    "    try:\n",
    "        percent_used = 100 - int(db_data.stats.get(\"df/percent_bytes__free\"))\n",
    "        if percent_used > 85:\n",
    "            percent_used = \"{}{}[CRITICAL] - {}\".format(textCol.BOLD, textCol.RED, percent_used)\n",
    "        elif percent_used > 80:\n",
    "            percent_used = \"{}[ERROR] - {}\".format(textCol.PURPLE, percent_used)\n",
    "        elif percent_used > 70:\n",
    "            percent_used = \"{}[WARNING] - {}\".format(textCol.YELLOW, percent_used)\n",
    "        else:\n",
    "            percent_used = \"{}[OK] - {}\".format(textCol.GREEN, percent_used)\n",
    "    except:\n",
    "        percent_used = \"{}[No Data] - ?\".format(textCol.YELLOW)\n",
    "    capacity_details = \"  Data Volume\\t\\t\\t\\t\\t{}% consumed of the allocated {}GB{}\".format(\n",
    "        percent_used,\n",
    "        db.allocated_storage,\n",
    "        textCol.END\n",
    "    )\n",
    "    print(db_details)\n",
    "    print(capacity_details)"
   ]
  }
 ],
 "metadata": {
  "kernelspec": {
   "display_name": "Python 2",
   "language": "python",
   "name": "python2"
  },
  "language_info": {
   "codemirror_mode": {
    "name": "ipython",
    "version": 2
   },
   "file_extension": ".py",
   "mimetype": "text/x-python",
   "name": "python",
   "nbconvert_exporter": "python",
   "pygments_lexer": "ipython2",
   "version": "2.7.5"
  }
 },
 "nbformat": 4,
 "nbformat_minor": 2
}
