{
 "cells": [
  {
   "cell_type": "code",
   "execution_count": 1,
   "metadata": {},
   "outputs": [],
   "source": [
    "import sys  # For running system level commands\n",
    "import yaml  # For reading the config file\n",
    "import os  # For path tools\n",
    "import requests  # For symphony client\n",
    "import symphony_client  # For connecting to Symphony region\n",
    "from pip._vendor.distlib.compat import raw_input\n",
    "import datetime\n",
    "from pytz import timezone\n",
    "import pytz  # To add timezone to datetime"
   ]
  },
  {
   "cell_type": "code",
   "execution_count": 2,
   "metadata": {
    "scrolled": true
   },
   "outputs": [
    {
     "name": "stdout",
     "output_type": "stream",
     "text": [
      "\u001b[33mDEPRECATION: Python 2.7 will reach the end of its life on January 1st, 2020. Please upgrade your Python as Python 2.7 won't be maintained after that date. A future version of pip will drop support for Python 2.7. More details about Python 2 support in pip, can be found at https://pip.pypa.io/en/latest/development/release-process/#python-2-support\u001b[0m\n",
      "Requirement already satisfied: pyyaml in /usr/lib64/python2.7/site-packages (5.1.1)\n",
      "\u001b[33mWARNING: You are using pip version 19.2.3, however version 19.3.1 is available.\n",
      "You should consider upgrading via the 'pip install --upgrade pip' command.\u001b[0m\n"
     ]
    }
   ],
   "source": [
    "!{sys.executable} -m pip install pyyaml"
   ]
  },
  {
   "cell_type": "code",
   "execution_count": 3,
   "metadata": {},
   "outputs": [
    {
     "name": "stdout",
     "output_type": "stream",
     "text": [
      "[INIT] Initialising script.\n"
     ]
    }
   ],
   "source": [
    "print(u\"[INIT] Initialising script.\")\n",
    "# Configure environment\n",
    "tz_utc = pytz.timezone(\"UTC\") # Set timezone for data source\n",
    "rootpath = os.path.dirname(os.path.realpath('__file__'))  # Get the root path"
   ]
  },
  {
   "cell_type": "code",
   "execution_count": 4,
   "metadata": {},
   "outputs": [
    {
     "name": "stdout",
     "output_type": "stream",
     "text": [
      " [✓] Config file loaded.\n"
     ]
    }
   ],
   "source": [
    "# Import config file data\n",
    "with open(rootpath + '/config.yml', 'r') as stream:\n",
    "    try:\n",
    "        config = yaml.safe_load(stream)\n",
    "        print(u\" [\\u2713] Config file loaded.\")\n",
    "    except yaml.YAMLError as exc:\n",
    "        print(u\" [\\u2717] Could not load the config file.\")\n",
    "        print(exc)\n",
    "        exit()\n",
    "class textCol:\n",
    "    RED = '\\033[91m'\n",
    "    GREEN = '\\033[92m'\n",
    "    YELLOW = '\\033[93m'\n",
    "    BLUE = '\\033[94m'\n",
    "    PURPLE = '\\033[95m'\n",
    "    CYCAN = '\\033[96m'\n",
    "    END = '\\033[0m'\n",
    "    BOLD = '\\033[1m'\n",
    "    UNDERLINE = '\\033[4m'"
   ]
  },
  {
   "cell_type": "code",
   "execution_count": 5,
   "metadata": {},
   "outputs": [
    {
     "name": "stdout",
     "output_type": "stream",
     "text": [
      " [✓] Stratoscale user region [https://192.168.101.100] session established.\n"
     ]
    }
   ],
   "source": [
    "# Configure Stratoscale API connection\n",
    "symp_url = \"https://\" + config[\"region_access\"][\"ipaddress\"]\n",
    "symp_domain = config[\"region_access\"][\"cloud_domain\"]\n",
    "symp_user = config[\"region_access\"][\"cloud_user\"]\n",
    "symp_password = config[\"region_access\"][\"cloud_password\"]\n",
    "symp_project = config[\"region_access\"][\"project\"],\n",
    "my_session = requests.Session()\n",
    "my_session.verify = False\n",
    "\n",
    "try:\n",
    "    client = symphony_client.Client(url=symp_url, session=my_session)\n",
    "    client_login = client.login(domain=symp_domain, username=symp_user, password=symp_password,project=symp_project)\n",
    "    print(u\" [\\u2713] Stratoscale user region [{}] session established.\".format(symp_url))\n",
    "except:\n",
    "    print(u\" [\\u2717] Could not connect to the Stratosacle region [{}] as user\".format(symp_url))\n",
    "    exit()"
   ]
  },
  {
   "cell_type": "code",
   "execution_count": 6,
   "metadata": {},
   "outputs": [
    {
     "name": "stdout",
     "output_type": "stream",
     "text": [
      "-------------------------------------------------------------------------------------------\n",
      " [1] \u001b[1mReplica of ar_test_db01 [172.16.250.81]\u001b[0m\n",
      "  DB ID 31cd3ef2-c7e7-4f4f-bcb3-5caa9ddf800f\t\u001b[92m[Active]\u001b[0m\n",
      "replica\n",
      "-------------------------------------------------------------------------------------------\n",
      " [2] \u001b[1mdbs_postgresql11_01-replica [172.16.250.70]\u001b[0m\n",
      "  DB ID 6a7a4037-a401-4523-b558-3223ddb23980\t\u001b[92m[Active]\u001b[0m\n",
      "remote_replica\n",
      "-------------------------------------------------------------------------------------------\n",
      " [3] \u001b[1mdg-mysql-db [None]\u001b[0m\n",
      "  DB ID 8a73de13-816b-41b9-b2c6-7f8d6317351a\t\u001b[92m[Active]\u001b[0m\n",
      "master\n",
      "-------------------------------------------------------------------------------------------\n",
      " [4] \u001b[1mar_test_db01 [172.16.250.114]\u001b[0m\n",
      "  DB ID 8c2c342c-5a4f-49d5-ad8d-924c54f35cb3\t\u001b[92m[Active]\u001b[0m\n",
      "master\n",
      "-------------------------------------------------------------------------------------------\n",
      " [5] \u001b[1mdg-mysql-db - Replica [None]\u001b[0m\n",
      "  DB ID cc8a466b-1279-48a2-abeb-0906f4d97f80\t\u001b[92m[Active]\u001b[0m\n",
      "replica\n",
      "-------------------------------------------------------------------------------------------\n",
      " [6] \u001b[1mdbs_mysql5.7-replica [172.16.250.96]\u001b[0m\n",
      "  DB ID d8ef60da-8042-4a73-84b2-59c1e51e6240\t\u001b[92m[Active]\u001b[0m\n",
      "remote_replica\n"
     ]
    }
   ],
   "source": [
    "dbs = client.dbs.instance.list()\n",
    "count = 0\n",
    "for db in dbs:\n",
    "    if db.role != 'standalone':\n",
    "        count = count + 1\n",
    "        if db.status.lower() == \"active\":\n",
    "            status = \"{}[Active]\".format(textCol.GREEN)\n",
    "        elif db.status.lower() == \"pending\":\n",
    "            status = \"{}[Pending]\".format(textCol.PURPLE)\n",
    "        elif db.status.lower() == \"processing\":\n",
    "            status = \"{}[Processing]\".format(textCol.CYCAN)\n",
    "        elif db.status.lower() == \"stopped\":\n",
    "            status = \"{}[Stopped]\".format(textCol.BLUE)\n",
    "        else:\n",
    "            status = \"{}Error\".format(textCol.RED)\n",
    "        db_details = \"-------------------------------------------------------------------------------------------\"\n",
    "        db_details = (\"{}\\n [{}] {}{} [{}]{}\\n  DB ID {}\\t{}{}\".format(\n",
    "            db_details,\n",
    "            count,\n",
    "            textCol.BOLD,\n",
    "            db.name,\n",
    "            db.floating_ip,\n",
    "            textCol.END,\n",
    "            db.id,\n",
    "            status,\n",
    "            textCol.END\n",
    "        ))\n",
    "        db_data = client.dbs.instance.get(db.id)\n",
    "        try:\n",
    "            percent_used = 100 - int(db_data.stats.get(\"df/percent_bytes__free\"))\n",
    "            if percent_used > 85:\n",
    "                percent_used = \"{}{}[CRITICAL] - {}\".format(textCol.BOLD, textCol.RED, percent_used)\n",
    "            elif percent_used > 80:\n",
    "                percent_used = \"{}[ERROR] - {}\".format(textCol.PURPLE, percent_used)\n",
    "            elif percent_used > 70:\n",
    "                percent_used = \"{}[WARNING] - {}\".format(textCol.YELLOW, percent_used)\n",
    "            else:\n",
    "                percent_used = \"{}[OK] - {}\".format(textCol.GREEN, percent_used)\n",
    "        except:\n",
    "            percent_used = \"{}[No Data] - ?\".format(textCol.YELLOW)\n",
    "        print(db_details)\n",
    "        print(db.role)"
   ]
  },
  {
   "cell_type": "code",
   "execution_count": 9,
   "metadata": {},
   "outputs": [
    {
     "name": "stdout",
     "output_type": "stream",
     "text": [
      "MYSQL\n",
      "ResponseDict({u'log_external_endpoint_id': None, u'floating_ip_id': u'27be9618-b5ae-4946-80b2-8e9382da355c', u'superuser_enabled_at': None, u'updated_at': u'2019-10-20T08:46:02', u'master_user_name': u'admin', u'ldap_info': None, u'is_hidden': False, u'id': u'a5f089a9-e0f8-41aa-aba9-222e53005400', u'description': None, u'require_ssl': False, u'user_id': u'4be7a8c63f6a4980ad7fa01cdcf71462', u'log_output_description': None, u'replicas': None, u'allocated_storage': 512, u'affinity_type': u'soft_anti_affinity', u'security_group_id': u'500ac4f4-d0fb-4d2f-9c3d-9d34b4ba90d4', u'engine_revision_id': u'98837e03-5188-4e80-ad32-e33053bd08d7', u'tags_alt': [], u'role': u'standalone', u'master': None, u'project_id': u'30907850ff5a48a2add1532672944420', u'status': u'Active', u'account_id': u'8bee1925adc2438d9650d3525268f037', u'tags': [], u'external_network_id': None, u'remote_replication_port': None, u'floating_ip': u'172.16.250.40', u'superuser_enabled_by': None, u'remote_replication_host': None, u'db_name': u'db', u'engine_version_id': u'74f0ee58-7fea-481c-b2d6-1eae9208e9e1', u'standby_definition': None, u'stats': Munch({u'mysql/mysql_bpool_bytes__dirty': 0, u'df/df_complex__reserved': 27504566272, u'mysql/mysql_innodb_data__fsyncs': 7, u'mysql/mysql_sort__scan': 2, u'mysql/operations__adaptive_hash_searches': 0, u'mysql/operations__dml_updates': 0, u'mysql/mysql_commands__show_status': 4951, u'mysql/mysql_innodb_row_lock__waits': 0, u'mysql/mysql_handler__read_next': 2306, u'mysql/mysql_handler__write': 2911741, u'mysql/mysql_sort_merge_passes': 0, u'mysql/mysql_innodb_dblwr__written': 2, u'mysql/mysql_locks__immediate': 5067, u'mysql/mysql_bpool_pages__free': 195921, u'mysql/mysql_handler__rollback': 1, u'mysql/mysql_handler__external_lock': 10197, u'mysql/operations__dml_deletes': 0, u'mysql/mysql_bpool_counters__read_ahead_rnd': 0, u'mysql/mysql_handler__read_first': 141, u'mysql/operations__innodb_rwlock_x_spin_rounds': 0, u'mysql/mysql_commands__show_procedure_status': 2, u'mysql/mysql_commands__set_option': 166, u'mysql/operations__innodb_rwlock_x_os_waits': 0, u'mysql/mysql_innodb_data__reads': 769, u'mysql/mysql_bpool_bytes__data': 10862592, u'mysql/cache_result__qcache-hits': 0, u'mysql/operations__ibuf_merges_delete': 0, u'mysql/mysql_locks__lock_row_lock_current_waits': 0, u'mysql/mysql_select__full_range_join': 0, u'mysql/mysql_bpool_counters__pages_flushed': 70, u'mysql/mysql_commands__show_events': 2, u'mysql/mysql_bpool_pages__misc': 0, u'df/percent_bytes__used': 0.0857202708721161, u'df/df_complex__free': 513025007616, u'mysql/mysql_commands__show_triggers': 30, u'mysql/mysql_locks__waited': 0, u'mysql/mysql_octets__tx': 64830444, u'mysql/mysql_bpool_counters__read_ahead': 166, u'mysql/cache_result__qcache-not_cached': 5021, u'mysql/operations__ibuf_merges_discard_insert': 0, u'mysql/mysql_bpool_pages__total': 196584, u'mysql/mysql_innodb_rows__inserted': 670, u'mysql/mysql_commands__show_databases': 1, u'mysql/threads__running': 2, u'mysql/mysql_innodb_data__written': 1181696, u'mysql/mysql_innodb_rows__read': 141427, u'mysql/mysql_select__scan': 15013, u'mysql/operations__ibuf_merges_discard_delete': 0, u'mysql/operations__ibuf_merges_discard_delete_mark': 0, u'mysql/mysql_select__range_check': 0, u'mysql/mysql_bpool_counters__wait_free': 0, u'mysql/mysql_innodb_data__writes': 87, u'mysql/mysql_innodb_log__write_requests': 0, u'mysql/gauge__file_num_open_files': 24, u'mysql/mysql_commands__show_table_status': 32, u'mysql/mysql_commands__savepoint': 2, u'mysql/mysql_commands__change_db': 34, u'mysql/mysql_innodb_pages__read': 614, u'df/percent_bytes__reserved': 5.08408641815186, u'mysql/mysql_octets__rx': 622591, u'mysql/mysql_innodb_rows__updated': 0, u'mysql/mysql_locks__lock_timeouts': 0, u'mysql/cache_result__qcache-inserts': 0, u'mysql/mysql_commands__rollback_to_savepoint': 30, u'mysql/mysql_innodb_pages__written': 70, u'mysql/mysql_slow_queries': 0, u'mysql/bytes__buffer_pool_size': 3221225472, u'mysql/mysql_commands__show_function_status': 2, u'mysql/mysql_commands__show_fields': 64, u'mysql/mysql_commands__admin_commands': 4952, u'mysql/mysql_select__full_join': 0, u'mysql/bytes__ibuf_size': 1, u'mysql/mysql_commands__show_create_db': 2, u'mysql/mysql_handler__read_rnd_next': 4814481, u'mysql/mysql_innodb_dblwr__writes': 1, u'mysql/mysql_innodb_log__fsyncs': 4, u'mysql/mysql_commands__select': 5021, u'df/percent_bytes__free': 94.830192565918, u'mysql/threads__connected': 2, u'mysql/gauge__trx_rseg_history_len': 3, u'mysql/mysql_bpool_counters__read_ahead_evicted': 0, u'mysql/mysql_innodb_pages__created': 49, u'df/df_complex__used': 463740928, u'mysql/mysql_commands__release_savepoint': 2, u'mysql/operations__ibuf_merges_delete_mark': 0, u'mysql/mysql_locks__lock_deadlocks': 0, u'mysql/operations__os_log_pending_fsyncs': 0, u'mysql/mysql_commands__show_create_table': 32, u'mysql/cache_size__qcache': 0, u'mysql/mysql_innodb_data__read': 11801088, u'mysql/mysql_handler__read_key': 131, u'mysql/operations__os_log_pending_writes': 0, u'mysql/mysql_bpool_counters__read_requests': 21367, u'mysql/total_threads__created': 2, u'mysql/operations__innodb_rwlock_s_spin_rounds': 10, u'mysql/mysql_bpool_pages__dirty': 0, u'mysql/mysql_innodb_row_lock__time': 0, u'mysql/mysql_bpool_counters__write_requests': 2769, u'mysql/mysql_bpool_counters__reads': 449, u'mysql/mysql_commands__show_tables': 2, u'mysql/operations__innodb_rwlock_s_os_waits': 5, u'mysql/mysql_innodb_rows__deleted': 0, u'mysql/mysql_handler__commit': 28, u'mysql/mysql_sort_rows': 0, u'mysql/mysql_innodb_log__writes': 2, u'mysql/operations__dml_inserts': 670, u'mysql/mysql_sort__range': 0, u'mysql/cache_result__qcache-prunes': 0, u'mysql/mysql_commands__unlock_tables': 1, u'mysql/mysql_bpool_pages__data': 663, u'mysql/operations__innodb_rwlock_x_spin_waits': 0, u'mysql/gauge__innodb_activity_count': 237, u'mysql/mysql_handler__savepoint_rollback': 30, u'mysql/threads__cached': 0, u'mysql/mysql_select__range': 1, u'mysql/mysql_innodb_log__written': 1024, u'mysql/mysql_commands__flush': 1, u'mysql/operations__innodb_rwlock_s_spin_waits': 0, u'mysql/mysql_innodb_log__waits': 0, u'mysql/mysql_commands__begin': 1, u'mysql/mysql_handler__savepoint': 2, u'mysql/operations__ibuf_merges_insert': 0, u'mysql/operations__os_log_bytes_written': 1024, u'mysql/mysql_commands__show_variables': 2}), u'vm_id': u'9b9f7650-1e89-4eef-8686-1730511bcb6f', u'parameter_group_id': u'57000e71-364c-49e1-adbd-586485fb4362', u'status_details': Munch({u'reboot_pending': False, u'health_status': u'Healthy', u'last_health_change': u'2019-10-20 08:46:02.535787'}), u'protection_membership_id': None, u'name': u'dbs_mysql5.7_01', u'network_id': u'e96e820b-383a-4bc3-a64d-6127d05f6c16', u'created_at': u'2019-08-05T09:41:34', u'internal_ip': u'172.31.0.18', u'instance_type': u'm1.medium', u'source_id': None, u'vpc_id': u'e4d10915-1bf1-4f3c-9b6d-a5b2542991c2', u'ports': u'3306'})\n"
     ]
    }
   ],
   "source": [
    "print \"MYSQL\"\n",
    "db_data = client.dbs.instance.get(\"a5f089a9-e0f8-41aa-aba9-222e53005400\")\n",
    "print db_data"
   ]
  },
  {
   "cell_type": "code",
   "execution_count": 7,
   "metadata": {},
   "outputs": [
    {
     "name": "stdout",
     "output_type": "stream",
     "text": [
      "MYSQL\n",
      "ResponseDict({u'log_external_endpoint_id': None, u'floating_ip_id': u'fb63cfb9-2b05-4d2f-808c-bb17be49aab4', u'superuser_enabled_at': None, u'updated_at': u'2019-10-21T15:07:02', u'master_user_name': u'admin', u'ldap_info': None, u'is_hidden': False, u'id': u'd8ef60da-8042-4a73-84b2-59c1e51e6240', u'description': None, u'require_ssl': False, u'user_id': u'4be7a8c63f6a4980ad7fa01cdcf71462', u'log_output_description': None, u'replicas': None, u'allocated_storage': 512, u'affinity_type': u'soft_anti_affinity', u'security_group_id': u'1e57b09a-4d3b-436d-b102-509d700e0093', u'engine_revision_id': u'98837e03-5188-4e80-ad32-e33053bd08d7', u'tags_alt': [], u'role': u'remote_replica', u'master': Munch({u'id': u'172.16.250.40:3306', u'name': u'Master on 172.16.250.40'}), u'project_id': u'30907850ff5a48a2add1532672944420', u'status': u'Active', u'account_id': u'8bee1925adc2438d9650d3525268f037', u'tags': [], u'external_network_id': u'fde62377-e981-4c45-b8c6-aa36a563ebb9', u'remote_replication_port': 3306, u'floating_ip': u'172.16.250.96', u'superuser_enabled_by': None, u'remote_replication_host': u'172.16.250.40', u'db_name': None, u'engine_version_id': u'74f0ee58-7fea-481c-b2d6-1eae9208e9e1', u'standby_definition': None, u'stats': Munch({u'mysql/mysql_bpool_bytes__dirty': 0, u'df/df_complex__reserved': 27504566272, u'mysql/mysql_innodb_data__fsyncs': 362, u'mysql/mysql_commands__drop_table': 27, u'mysql/operations__adaptive_hash_searches': 136973, u'mysql/operations__dml_updates': 1, u'mysql/mysql_commands__show_status': 2, u'mysql/mysql_innodb_row_lock__waits': 0, u'mysql/mysql_handler__read_next': 6, u'mysql/mysql_handler__write': 141352, u'mysql/mysql_sort_merge_passes': 0, u'mysql/mysql_innodb_dblwr__written': 665, u'mysql/mysql_locks__immediate': 118, u'mysql/mysql_bpool_pages__free': 195629, u'mysql/mysql_handler__external_lock': 317, u'mysql/operations__dml_deletes': 2, u'mysql/mysql_bpool_counters__read_ahead_rnd': 0, u'mysql/mysql_commands__slave_start': 1, u'mysql/mysql_handler__read_first': 20, u'mysql/operations__innodb_rwlock_x_spin_rounds': 0, u'mysql/operations__innodb_rwlock_x_spin_waits': 0, u'mysql/mysql_commands__set_option': 122, u'mysql/operations__innodb_rwlock_x_os_waits': 0, u'mysql/mysql_innodb_data__reads': 357, u'mysql/mysql_bpool_bytes__data': 15597568, u'mysql/cache_result__qcache-hits': 0, u'mysql/mysql_locks__lock_row_lock_current_waits': 0, u'mysql/mysql_select__full_range_join': 0, u'mysql/mysql_handler__update': 2, u'mysql/mysql_bpool_counters__pages_flushed': 699, u'mysql/mysql_bpool_pages__misc': 3, u'df/percent_bytes__used': 0.0856468304991722, u'df/df_complex__free': 513025404928, u'mysql/mysql_locks__waited': 0, u'mysql/mysql_octets__tx': 24443, u'mysql/mysql_bpool_counters__read_ahead': 0, u'mysql/cache_result__qcache-not_cached': 9, u'mysql/operations__ibuf_merges_discard_insert': 0, u'mysql/mysql_bpool_pages__total': 196584, u'mysql/mysql_innodb_rows__inserted': 140751, u'mysql/cache_size__qcache': 0, u'mysql/threads__running': 1, u'mysql/mysql_innodb_data__written': 33596416, u'mysql/mysql_innodb_rows__read': 14, u'mysql/mysql_select__scan': 9, u'mysql/operations__ibuf_merges_discard_delete': 0, u'mysql/operations__ibuf_merges_discard_delete_mark': 0, u'mysql/mysql_select__range_check': 0, u'mysql/mysql_bpool_counters__wait_free': 0, u'mysql/mysql_commands__show_warnings': 1, u'mysql/mysql_innodb_data__writes': 1013, u'mysql/mysql_innodb_log__write_requests': 22593, u'mysql/gauge__file_num_open_files': 24, u'mysql/mysql_commands__change_db': 5, u'mysql/mysql_innodb_pages__read': 325, u'df/percent_bytes__reserved': 5.08408641815186, u'mysql/mysql_octets__rx': 3469649, u'mysql/mysql_innodb_rows__updated': 1, u'mysql/mysql_locks__lock_timeouts': 0, u'mysql/cache_result__qcache-inserts': 0, u'mysql/mysql_innodb_pages__written': 699, u'mysql/mysql_slow_queries': 0, u'mysql/bytes__buffer_pool_size': 3221225472, u'mysql/mysql_commands__admin_commands': 1, u'mysql/mysql_commands__grant': 1, u'mysql/mysql_commands__insert': 18, u'mysql/mysql_commands__show_slave_status': 1, u'mysql/mysql_handler__delete': 2, u'mysql/mysql_select__full_join': 0, u'mysql/bytes__ibuf_size': 1, u'mysql/operations__ibuf_merges_delete': 0, u'mysql/mysql_handler__read_rnd_next': 1006, u'mysql/mysql_innodb_dblwr__writes': 32, u'mysql/mysql_innodb_log__fsyncs': 92, u'mysql/mysql_commands__select': 9, u'df/percent_bytes__free': 94.8302688598633, u'mysql/threads__connected': 1, u'mysql/gauge__trx_rseg_history_len': 22, u'mysql/mysql_bpool_counters__read_ahead_evicted': 0, u'mysql/mysql_innodb_pages__created': 627, u'df/df_complex__used': 463343616, u'mysql/mysql_commands__reset': 1, u'mysql/mysql_select__range': 0, u'mysql/mysql_locks__lock_deadlocks': 0, u'mysql/operations__os_log_pending_fsyncs': 0, u'mysql/mysql_commands__show_databases': 4, u'mysql/mysql_innodb_data__read': 5411328, u'mysql/mysql_handler__read_key': 23, u'mysql/operations__os_log_pending_writes': 0, u'mysql/mysql_bpool_counters__read_requests': 442738, u'mysql/total_threads__created': 2, u'mysql/operations__innodb_rwlock_s_spin_rounds': 166, u'mysql/mysql_bpool_pages__dirty': 0, u'mysql/mysql_innodb_row_lock__time': 0, u'mysql/mysql_bpool_counters__write_requests': 290704, u'mysql/mysql_bpool_counters__reads': 326, u'mysql/operations__innodb_rwlock_s_os_waits': 87, u'mysql/mysql_innodb_rows__deleted': 2, u'mysql/mysql_handler__commit': 36, u'mysql/mysql_sort_rows': 0, u'mysql/mysql_innodb_log__writes': 83, u'mysql/operations__dml_inserts': 140751, u'mysql/mysql_commands__change_master': 1, u'mysql/mysql_sort__range': 0, u'mysql/mysql_sort__scan': 0, u'mysql/mysql_bpool_pages__data': 952, u'mysql/gauge__innodb_activity_count': 4498, u'mysql/cache_result__qcache-prunes': 0, u'mysql/mysql_commands__create_table': 32, u'mysql/threads__cached': 1, u'mysql/mysql_innodb_log__written': 11244032, u'mysql/mysql_commands__flush': 2, u'mysql/operations__innodb_rwlock_s_spin_waits': 0, u'mysql/mysql_commands__create_db': 2, u'mysql/mysql_innodb_log__waits': 0, u'mysql/operations__ibuf_merges_insert': 0, u'mysql/operations__os_log_bytes_written': 11244032, u'mysql/operations__ibuf_merges_delete_mark': 0}), u'vm_id': u'ea540545-7a9e-462e-a31c-b3d5922c5a4a', u'parameter_group_id': u'57000e71-364c-49e1-adbd-586485fb4362', u'status_details': Munch({u'health_status': u'Healthy', u'last_health_change': u'2019-10-21 15:07:02.953766'}), u'protection_membership_id': None, u'name': u'dbs_mysql5.7-replica', u'network_id': u'e96e820b-383a-4bc3-a64d-6127d05f6c16', u'created_at': u'2019-10-21T15:03:22', u'internal_ip': u'172.31.0.8', u'instance_type': u'm1.medium', u'source_id': None, u'vpc_id': u'e4d10915-1bf1-4f3c-9b6d-a5b2542991c2', u'ports': u'3306'})\n"
     ]
    }
   ],
   "source": [
    "print \"MYSQL-REPLICA\"\n",
    "db_data = client.dbs.instance.get(\"d8ef60da-8042-4a73-84b2-59c1e51e6240\")\n",
    "print db_data"
   ]
  },
  {
   "cell_type": "code",
   "execution_count": 10,
   "metadata": {},
   "outputs": [
    {
     "name": "stdout",
     "output_type": "stream",
     "text": [
      "POSTGRES\n",
      "ResponseDict({u'log_external_endpoint_id': None, u'floating_ip_id': u'77ee4b1e-b458-4ad4-bc86-de73381ee801', u'superuser_enabled_at': None, u'updated_at': u'2019-10-20T08:46:01', u'master_user_name': u'admin', u'ldap_info': None, u'is_hidden': False, u'id': u'8d75b8e6-0a41-43b8-bb0a-787f81ed2537', u'description': None, u'require_ssl': False, u'user_id': u'4be7a8c63f6a4980ad7fa01cdcf71462', u'log_output_description': None, u'replicas': None, u'allocated_storage': 50, u'affinity_type': u'soft_anti_affinity', u'security_group_id': u'35c1ff5c-9d5c-4706-9ae6-1ad7cbabcda2', u'engine_revision_id': u'cda04041-0b95-4426-a1e9-a2c658c2d98e', u'tags_alt': [], u'role': u'standalone', u'master': None, u'project_id': u'30907850ff5a48a2add1532672944420', u'status': u'Active', u'account_id': u'8bee1925adc2438d9650d3525268f037', u'tags': [], u'external_network_id': None, u'remote_replication_port': None, u'floating_ip': u'172.16.250.47', u'superuser_enabled_by': None, u'remote_replication_host': None, u'db_name': u'db', u'engine_version_id': u'0a2db9aa-9a13-467c-b1be-555afbf63279', u'standby_definition': None, u'stats': Munch({u'postgresql/pg_xact__rollback': 0, u'postgresql/pg_blks__heap_read': 0, u'postgresql/pg_blks__idx_read': 0, u'postgresql/pg_scan__seq': 0, u'df/df_complex__reserved': 2701131776, u'postgresql/pg_numbackends': 1, u'postgresql/pg_blks__toast_read': 0, u'postgresql/pg_xact__commit': 54366, u'postgresql/pg_blks__tidx_read': 0, u'postgresql/pg_scan__idx_tup_fetch': 0, u'postgresql/pg_n_tup_g__live': 0, u'df/percent_bytes__free': 94.2654342651367, u'postgresql/pg_scan__seq_tup_read': 0, u'postgresql/pg_scan__idx': 0, u'postgresql/pg_db_size': 7893663, u'df/df_complex__used': 321572864, u'postgresql/pg_blks__toast_hit': 0, u'postgresql/pg_n_tup_c__hot_upd': 0, u'postgresql/pg_blks__heap_hit': 0, u'postgresql/pg_blks__idx_hit': 0, u'df/percent_bytes__reserved': 5.12448453903198, u'postgresql/pg_blks__tidx_hit': 0, u'df/percent_bytes__used': 0.610075831413269, u'postgresql/pg_n_tup_c__del': 0, u'df/df_complex__free': 49687605248, u'postgresql/pg_n_tup_c__ins': 0, u'postgresql/pg_n_tup_g__dead': 0, u'postgresql/pg_n_tup_c__upd': 0}), u'vm_id': u'c923c87b-aaa6-4da0-962f-a2a04a6dd638', u'parameter_group_id': u'de7be801-f319-4731-9ed7-44ef7bfbb8e6', u'status_details': Munch({u'health_status': u'Healthy', u'last_health_change': u'2019-10-20 08:46:01.911726'}), u'protection_membership_id': None, u'name': u'dbs_postgresql11_01', u'network_id': u'e96e820b-383a-4bc3-a64d-6127d05f6c16', u'created_at': u'2019-09-06T12:40:49', u'internal_ip': u'172.31.0.23', u'instance_type': u'm1.medium', u'source_id': None, u'vpc_id': u'e4d10915-1bf1-4f3c-9b6d-a5b2542991c2', u'ports': u'5432'})\n"
     ]
    }
   ],
   "source": [
    "print \"POSTGRES\"\n",
    "db_data = client.dbs.instance.get(\"8d75b8e6-0a41-43b8-bb0a-787f81ed2537\")\n",
    "print db_data"
   ]
  },
  {
   "cell_type": "code",
   "execution_count": 8,
   "metadata": {},
   "outputs": [
    {
     "name": "stdout",
     "output_type": "stream",
     "text": [
      "POSTGRES\n",
      "ResponseDict({u'log_external_endpoint_id': None, u'floating_ip_id': u'fb53928d-6a42-4246-af3a-ff4db4b56bdb', u'superuser_enabled_at': None, u'updated_at': u'2019-10-21T14:55:39', u'master_user_name': u'admin', u'ldap_info': None, u'is_hidden': False, u'id': u'6a7a4037-a401-4523-b558-3223ddb23980', u'description': None, u'require_ssl': False, u'user_id': u'4be7a8c63f6a4980ad7fa01cdcf71462', u'log_output_description': None, u'replicas': None, u'allocated_storage': 50, u'affinity_type': u'soft_anti_affinity', u'security_group_id': u'c5decbfa-5c40-49ff-b56b-0c6430afde5a', u'engine_revision_id': u'cda04041-0b95-4426-a1e9-a2c658c2d98e', u'tags_alt': [], u'role': u'remote_replica', u'master': Munch({u'id': u'172.16.250.47:5432', u'name': u'Master on 172.16.250.47'}), u'project_id': u'30907850ff5a48a2add1532672944420', u'status': u'Active', u'account_id': u'8bee1925adc2438d9650d3525268f037', u'tags': [], u'external_network_id': None, u'remote_replication_port': 5432, u'floating_ip': u'172.16.250.70', u'superuser_enabled_by': None, u'remote_replication_host': u'172.16.250.47', u'db_name': None, u'engine_version_id': u'0a2db9aa-9a13-467c-b1be-555afbf63279', u'standby_definition': None, u'stats': Munch({u'postgresql/pg_xact__rollback': 0, u'postgresql/pg_blks__heap_read': 0, u'postgresql/pg_blks__idx_read': 0, u'postgresql/pg_scan__seq': 0, u'df/df_complex__reserved': 2701131776, u'df/percent_bytes__reserved': 5.12448453903198, u'postgresql/pg_numbackends': 1, u'postgresql/pg_blks__toast_read': 0, u'postgresql/pg_scan__seq_tup_read': 0, u'postgresql/pg_blks__tidx_read': 0, u'postgresql/pg_scan__idx_tup_fetch': 0, u'postgresql/pg_n_tup_g__live': 0, u'df/percent_bytes__free': 94.5381774902344, u'postgresql/pg_xact__commit': 97, u'postgresql/pg_scan__idx': 0, u'postgresql/pg_blks__tidx_hit': 0, u'df/df_complex__used': 177811456, u'postgresql/pg_blks__toast_hit': 0, u'postgresql/pg_n_tup_c__hot_upd': 0, u'postgresql/pg_blks__heap_hit': 0, u'postgresql/pg_blks__idx_hit': 0, u'postgresql/pg_db_size': 7893663, u'df/percent_bytes__used': 0.337337136268616, u'postgresql/pg_n_tup_c__del': 0, u'df/df_complex__free': 49831366656, u'postgresql/pg_n_tup_c__ins': 0, u'postgresql/pg_n_tup_g__dead': 0, u'postgresql/pg_n_tup_c__upd': 0}), u'vm_id': u'68ed565c-12c8-4844-a807-9ada6bba4ba5', u'parameter_group_id': u'de7be801-f319-4731-9ed7-44ef7bfbb8e6', u'status_details': Munch({u'health_status': u'Healthy', u'last_health_change': u'2019-10-21 14:55:39.235281'}), u'protection_membership_id': None, u'name': u'dbs_postgresql11_01-replica', u'network_id': u'e96e820b-383a-4bc3-a64d-6127d05f6c16', u'created_at': u'2019-10-21T14:51:16', u'internal_ip': u'172.31.0.26', u'instance_type': u'm1.medium', u'source_id': None, u'vpc_id': u'e4d10915-1bf1-4f3c-9b6d-a5b2542991c2', u'ports': u'5432'})\n"
     ]
    }
   ],
   "source": [
    "print \"POSTGRES-REPLICA\"\n",
    "db_data = client.dbs.instance.get(\"6a7a4037-a401-4523-b558-3223ddb23980\")\n",
    "print db_data"
   ]
  },
  {
   "cell_type": "code",
   "execution_count": null,
   "metadata": {},
   "outputs": [],
   "source": []
  }
 ],
 "metadata": {
  "kernelspec": {
   "display_name": "Python 2",
   "language": "python",
   "name": "python2"
  },
  "language_info": {
   "codemirror_mode": {
    "name": "ipython",
    "version": 2
   },
   "file_extension": ".py",
   "mimetype": "text/x-python",
   "name": "python",
   "nbconvert_exporter": "python",
   "pygments_lexer": "ipython2",
   "version": "2.7.5"
  }
 },
 "nbformat": 4,
 "nbformat_minor": 2
}
